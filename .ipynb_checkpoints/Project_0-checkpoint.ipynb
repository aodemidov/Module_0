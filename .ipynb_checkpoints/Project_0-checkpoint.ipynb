{
 "cells": [
  {
   "cell_type": "markdown",
   "id": "05b72ed1-1394-48f1-a174-56b0503826a3",
   "metadata": {
    "tags": []
   },
   "source": [
    "# Проект 0. GitHub. Самый быстрый старт \n",
    "### Итоговое задание Демидова А. О. Поток DSPR-59"
   ]
  },
  {
   "cell_type": "markdown",
   "id": "56f534d5-9505-4910-b9d6-3aa463a945a6",
   "metadata": {},
   "source": [
    "## Приветствие"
   ]
  },
  {
   "cell_type": "code",
   "execution_count": 60,
   "id": "9749f3c1-b66d-4e7d-af02-dc9a26fcf755",
   "metadata": {},
   "outputs": [],
   "source": [
    "def welcome():\n",
    "    print(' Добро пожаловать в игр \"Угадай число\"! ')\n",
    "    print(' Цель игры - отгадать загаддное от 1 до 100 число ')\n",
    "    while True:\n",
    "        mode = input(' Отгадывать число будете Вы (1) или компьютер (0)? ')\n",
    "        \n",
    "        if not(mode.isdigit()):\n",
    "            print(\" Введите 1 или 0! \")\n",
    "            continue\n",
    "        \n",
    "        n = int(mode)\n",
    "        \n",
    "        if not(n in [0,1]):\n",
    "            print(\" Введите 1 или 0! \")\n",
    "            continue\n",
    "        return mode"
   ]
  },
  {
   "cell_type": "markdown",
   "id": "344cd874-bb87-4bba-bf22-b5c575c324a2",
   "metadata": {},
   "source": [
    "## Кто загадывает число?"
   ]
  },
  {
   "cell_type": "code",
   "execution_count": 61,
   "id": "25356fb6-fc30-4025-82a4-b7ebd2b347b9",
   "metadata": {},
   "outputs": [],
   "source": [
    "def ask():\n",
    "    while True:\n",
    "        mode = input(' Хотите загадать число сами (1) или доверимся случайному выбору(0)? ')\n",
    "        \n",
    "        if not(mode.isdigit()):\n",
    "            print(\" Введите 1 или 0! \")\n",
    "            continue\n",
    "        \n",
    "        n = int(mode)\n",
    "        \n",
    "        if not(n in [0,1]):\n",
    "            print(\" Введите 1 или 0! \")\n",
    "            continue\n",
    "        return mode"
   ]
  },
  {
   "cell_type": "markdown",
   "id": "c466b621-a0ba-42dd-b671-0e11c5bcf469",
   "metadata": {},
   "source": [
    "## Пользовательская игра"
   ]
  },
  {
   "cell_type": "code",
   "execution_count": 62,
   "id": "f92812aa-3814-41b5-ba90-8365d70fcbb4",
   "metadata": {},
   "outputs": [],
   "source": [
    "def game_user(number):\n",
    "    count = 0\n",
    "    while True:\n",
    "        number_user = input(' Введите предполагаемое число: ')\n",
    "        \n",
    "        if not(number_user.isdigit()):\n",
    "            print(' Введите число! ')\n",
    "            continue\n",
    "        \n",
    "        number_user = int(number_user)\n",
    "        if number_user < 1 or number_user > 100:\n",
    "            print( 'Введите число в диапазоне от 1 до 100! ')\n",
    "            continue\n",
    "        \n",
    "        count += 1\n",
    "        if number_user < number:\n",
    "            print(f' Число {number_user} меньше загаданного')\n",
    "            print(' Попробуйте ещё раз! ')\n",
    "            continue\n",
    "            \n",
    "        if number_user > number:\n",
    "            print(f' Число {number_user} больше загаданного')\n",
    "            print(' Попробуйте ещё раз! ')\n",
    "            continue\n",
    "        return count"
   ]
  },
  {
   "cell_type": "markdown",
   "id": "840bf536-2baf-41d3-9333-71e9e1a880fd",
   "metadata": {},
   "source": [
    "## Игра компьютера"
   ]
  },
  {
   "cell_type": "code",
   "execution_count": 63,
   "id": "b2e3d034-5fac-478d-abc4-f5045257a3e4",
   "metadata": {},
   "outputs": [],
   "source": [
    "def game_computer(number):\n",
    "    count = 0\n",
    "    top_number = 100\n",
    "    low_number = 0\n",
    "    number_computer = 50\n",
    "    while True:\n",
    "        count += 1\n",
    "        print(f' Попытка {count}, текущее число: {number_computer}')\n",
    "        \n",
    "        if number_computer == number:\n",
    "            return count\n",
    "        \n",
    "        low_number = number_computer if number_computer < number else low_number\n",
    "        top_number = number_computer if number_computer > number else top_number\n",
    "        number_computer = int((top_number + low_number)/2)      "
   ]
  },
  {
   "cell_type": "markdown",
   "id": "3c2dd40c-f179-4f4f-a1f3-b454dbeb604e",
   "metadata": {},
   "source": [
    "## Текст выигрыша"
   ]
  },
  {
   "cell_type": "code",
   "execution_count": 64,
   "id": "b004f958-4599-45a2-b98f-36e5aadcdf95",
   "metadata": {},
   "outputs": [],
   "source": [
    "def text_win(count,player):\n",
    "    if player == 'user':\n",
    "        player = 'Вы угадали'\n",
    "    else:\n",
    "        player = 'Компьютер угадал'\n",
    "    \n",
    "    if count%10 == 1 and count != 11:\n",
    "        return f' {player} число за {count} попытку! '\n",
    "    elif 1 < count%10 < 5 and (count > 15 or count < 5) :\n",
    "        return f' {player} число за {count} попытки! '\n",
    "    else:\n",
    "        return f' {player} число за {count} попыток! ' "
   ]
  },
  {
   "cell_type": "markdown",
   "id": "c1d93bac-db8f-4016-a585-1f27cffd7ae2",
   "metadata": {},
   "source": [
    "# Игра"
   ]
  },
  {
   "cell_type": "code",
   "execution_count": 59,
   "id": "06d9ecf0-7190-4c0f-a0e2-febeb690a105",
   "metadata": {},
   "outputs": [
    {
     "name": "stdout",
     "output_type": "stream",
     "text": [
      "Requirement already satisfied: numpy in d:\\anaconda3\\lib\\site-packages (1.21.1)\n",
      " Добро пожаловать в игр \"Угадай число\"! \n",
      " Цель игры - отгадать загаддное от 1 до 100 число \n"
     ]
    },
    {
     "name": "stdin",
     "output_type": "stream",
     "text": [
      " Отгадывать число будете Вы (1) или компьютер (0)?  0\n",
      " Хотите загадать число сами (1) или доверимся случайному выбору(0)?  0\n"
     ]
    },
    {
     "name": "stdout",
     "output_type": "stream",
     "text": [
      " Случайным образом загадано число 23\n",
      " Попытка 1, текущее число: 50\n",
      " Попытка 2, текущее число: 25\n",
      " Попытка 3, текущее число: 12\n",
      " Попытка 4, текущее число: 18\n",
      " Попытка 5, текущее число: 21\n",
      " Попытка 6, текущее число: 23\n",
      " Компьютер угадал число за 6 попыток! \n"
     ]
    }
   ],
   "source": [
    "!pip install numpy\n",
    "import numpy as np\n",
    "mode = int(welcome())\n",
    "if mode == 1:\n",
    "    number = np.random.randint(1,101)\n",
    "    count = game_user(number)\n",
    "    print(text_win(count,'user'))\n",
    "else:\n",
    "    var = ask()\n",
    "    if var == 1:\n",
    "        while True:\n",
    "            number = input(' Введите число от 1 до 100: ')\n",
    "            \n",
    "            if not(number.isdigit()):\n",
    "                print(' Введите число! ')\n",
    "                continue\n",
    "            \n",
    "            number = int(number)\n",
    "            \n",
    "            if number < 1 or number > 100:\n",
    "                print(' Введите число в диапазоне от 1 до 100! ')\n",
    "                continue\n",
    "            break\n",
    "        count = game_computer(number)\n",
    "        print(text_win(count,'computer'))\n",
    "    else:\n",
    "        number = np.random.randint(1,101)\n",
    "        print(f' Случайным образом загадано число {number}')\n",
    "        count = game_computer(number)\n",
    "        print(text_win(count,'computer'))"
   ]
  }
 ],
 "metadata": {
  "kernelspec": {
   "display_name": "Python 3",
   "language": "python",
   "name": "python3"
  },
  "language_info": {
   "codemirror_mode": {
    "name": "ipython",
    "version": 3
   },
   "file_extension": ".py",
   "mimetype": "text/x-python",
   "name": "python",
   "nbconvert_exporter": "python",
   "pygments_lexer": "ipython3",
   "version": "3.8.8"
  }
 },
 "nbformat": 4,
 "nbformat_minor": 5
}
